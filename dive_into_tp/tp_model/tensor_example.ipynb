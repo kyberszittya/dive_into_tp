{
 "cells": [
  {
   "cell_type": "code",
   "execution_count": 3,
   "outputs": [],
   "source": [
    "import numpy as np"
   ],
   "metadata": {
    "collapsed": false,
    "pycharm": {
     "name": "#%%\n"
    }
   }
  },
  {
   "cell_type": "code",
   "execution_count": 20,
   "outputs": [],
   "source": [
    "A = np.array([\n",
    "    [[0, 1, 1, 0, 0, 0, 0],\n",
    "     [1, 0, 1, 0, 0, 0, 0],\n",
    "     [1, 1, 0, 0, 0, 0, 0],\n",
    "     [0, 0, 0, 0, 0, 0, 0],\n",
    "     [0, 0, 0, 0, 0, 0, 0],\n",
    "     [0, 0, 0, 0, 0, 0, 0],\n",
    "     [0, 0, 0, 0, 0, 0, 0]],\n",
    "    [[0, 0, 0, 0, 0, 0, 0],\n",
    "     [0, 0, 0, 0, 0, 0, 0],\n",
    "     [0, 0, 0, 1, 1, 0, 0],\n",
    "     [0, 0, 1, 0, 1, 0, 0],\n",
    "     [0, 0, 1, 1, 0, 0, 0],\n",
    "     [0, 0, 0, 0, 0, 0, 0],\n",
    "     [0, 0, 0, 0, 0, 0, 0]],\n",
    "    [[0, 0, 0, 0, 0, 0, 0],\n",
    "     [0, 0, 0, 0, 1, 0, 1],\n",
    "     [0, 0, 0, 0, 0, 0, 0],\n",
    "     [0, 0, 0, 0, 0, 0, 0],\n",
    "     [0, 1, 0, 0, 0, 0, 1],\n",
    "     [0, 0, 0, 0, 0, 0, 0],\n",
    "     [0, 1, 0, 0, 1, 0, 0]],\n",
    "    [[0, 0, 0, 1, 0, 0, 1],\n",
    "     [0, 0, 0, 0, 0, 0, 0],\n",
    "     [0, 0, 0, 0, 0, 0, 0],\n",
    "     [1, 0, 0, 0, 0, 0, 1],\n",
    "     [0, 0, 0, 0, 0, 0, 0],\n",
    "     [0, 0, 0, 0, 0, 0, 0],\n",
    "     [1, 0, 0, 1, 0, 0, 0]],\n",
    "    [[0, 0, 0, 0, 0, 0, 0],\n",
    "     [0, 0, 0, 0, 0, 0, 0],\n",
    "     [0, 0, 0, 0, 0, 1, 1],\n",
    "     [0, 0, 0, 0, 0, 0, 0],\n",
    "     [0, 0, 0, 0, 0, 0, 0],\n",
    "     [0, 0, 1, 0, 0, 0, 1],\n",
    "     [0, 0, 1, 0, 0, 1, 0]],\n",
    "    [[0, 0, 0, 0, 0, 0, 0],\n",
    "     [0, 0, 0, 1, 0, 1, 0],\n",
    "     [0, 0, 0, 0, 0, 0, 0],\n",
    "     [0, 1, 0, 0, 0, 1, 0],\n",
    "     [0, 0, 0, 0, 0, 0, 0],\n",
    "     [0, 1, 0, 1, 0, 0, 0],\n",
    "     [0, 0, 0, 0, 0, 0, 0]],\n",
    "    [[0, 0, 0, 0, 1, 1, 0],\n",
    "     [0, 0, 0, 0, 0, 0, 0],\n",
    "     [0, 0, 0, 0, 0, 0, 0],\n",
    "     [0, 0, 0, 0, 0, 0, 0],\n",
    "     [1, 0, 0, 0, 0, 1, 0],\n",
    "     [1, 0, 0, 0, 1, 0, 0],\n",
    "     [0, 0, 0, 0, 0, 0, 0]],\n",
    "], dtype=np.float64)"
   ],
   "metadata": {
    "collapsed": false,
    "pycharm": {
     "name": "#%%\n"
    }
   }
  },
  {
   "cell_type": "code",
   "execution_count": 21,
   "outputs": [
    {
     "data": {
      "text/plain": "array([[0., 1., 1., 1., 1., 1., 1.],\n       [1., 0., 1., 1., 1., 1., 1.],\n       [1., 1., 0., 1., 1., 1., 1.],\n       [1., 1., 1., 0., 1., 1., 1.],\n       [1., 1., 1., 1., 0., 1., 1.],\n       [1., 1., 1., 1., 1., 0., 1.],\n       [1., 1., 1., 1., 1., 1., 0.]])"
     },
     "execution_count": 21,
     "metadata": {},
     "output_type": "execute_result"
    }
   ],
   "source": [
    "np.sum(A, axis=0)"
   ],
   "metadata": {
    "collapsed": false,
    "pycharm": {
     "name": "#%%\n"
    }
   }
  },
  {
   "cell_type": "code",
   "execution_count": null,
   "outputs": [],
   "source": [
    "A.shape"
   ],
   "metadata": {
    "collapsed": false,
    "pycharm": {
     "name": "#%%\n"
    }
   }
  },
  {
   "cell_type": "code",
   "execution_count": 16,
   "outputs": [
    {
     "ename": "ModuleNotFoundError",
     "evalue": "No module named 'sktensor'",
     "output_type": "error",
     "traceback": [
      "\u001B[1;31m---------------------------------------------------------------------------\u001B[0m",
      "\u001B[1;31mModuleNotFoundError\u001B[0m                       Traceback (most recent call last)",
      "Input \u001B[1;32mIn [16]\u001B[0m, in \u001B[0;36m<cell line: 1>\u001B[1;34m()\u001B[0m\n\u001B[1;32m----> 1\u001B[0m \u001B[38;5;28;01mfrom\u001B[39;00m \u001B[38;5;21;01msktensor\u001B[39;00m\u001B[38;5;21;01m.\u001B[39;00m\u001B[38;5;21;01mtucker\u001B[39;00m \u001B[38;5;28;01mimport\u001B[39;00m hooi, hosvd\n",
      "\u001B[1;31mModuleNotFoundError\u001B[0m: No module named 'sktensor'"
     ]
    }
   ],
   "source": [],
   "metadata": {
    "collapsed": false,
    "pycharm": {
     "name": "#%%\n"
    }
   }
  },
  {
   "cell_type": "code",
   "execution_count": 30,
   "outputs": [],
   "source": [
    "from tensorly.decomposition import tucker\n",
    "from tensorly import tucker_to_tensor"
   ],
   "metadata": {
    "collapsed": false,
    "pycharm": {
     "name": "#%%\n"
    }
   }
  },
  {
   "cell_type": "code",
   "execution_count": 57,
   "outputs": [],
   "source": [
    "core, factors = tucker(A, rank=[7, 7, 7])"
   ],
   "metadata": {
    "collapsed": false,
    "pycharm": {
     "name": "#%%\n"
    }
   }
  },
  {
   "cell_type": "code",
   "execution_count": 41,
   "outputs": [
    {
     "data": {
      "text/plain": "3"
     },
     "execution_count": 41,
     "metadata": {},
     "output_type": "execute_result"
    }
   ],
   "source": [
    "len(factors)"
   ],
   "metadata": {
    "collapsed": false,
    "pycharm": {
     "name": "#%%\n"
    }
   }
  },
  {
   "cell_type": "code",
   "execution_count": 58,
   "outputs": [],
   "source": [
    "v = tucker_to_tensor((core, factors))"
   ],
   "metadata": {
    "collapsed": false,
    "pycharm": {
     "name": "#%%\n"
    }
   }
  },
  {
   "cell_type": "code",
   "execution_count": 46,
   "outputs": [],
   "source": [
    "import matplotlib.pyplot as plt"
   ],
   "metadata": {
    "collapsed": false,
    "pycharm": {
     "name": "#%%\n"
    }
   }
  },
  {
   "cell_type": "code",
   "execution_count": 59,
   "outputs": [
    {
     "data": {
      "text/plain": "<Figure size 432x288 with 1 Axes>",
      "image/png": "[encoded data removed]"
     },
     "metadata": {
      "needs_background": "light"
     },
     "output_type": "display_data"
    },
    {
     "data": {
      "text/plain": "<Figure size 432x288 with 1 Axes>",
      "image/png": "[encoded data removed]"
     },
     "metadata": {
      "needs_background": "light"
     },
     "output_type": "display_data"
    },
    {
     "data": {
      "text/plain": "<Figure size 432x288 with 1 Axes>",
      "image/png": "[encoded data removed]"
     },
     "metadata": {
      "needs_background": "light"
     },
     "output_type": "display_data"
    },
    {
     "data": {
      "text/plain": "<Figure size 432x288 with 1 Axes>",
      "image/png": "[encoded data removed]"
     },
     "metadata": {
      "needs_background": "light"
     },
     "output_type": "display_data"
    },
    {
     "data": {
      "text/plain": "<Figure size 432x288 with 1 Axes>",
      "image/png": "[encoded data removed]"
     },
     "metadata": {
      "needs_background": "light"
     },
     "output_type": "display_data"
    },
    {
     "data": {
      "text/plain": "<Figure size 432x288 with 1 Axes>",
      "image/png": "[encoded data removed]"
     },
     "metadata": {
      "needs_background": "light"
     },
     "output_type": "display_data"
    },
    {
     "data": {
      "text/plain": "<Figure size 432x288 with 1 Axes>",
      "image/png": "[encoded data removed]"
     },
     "metadata": {
      "needs_background": "light"
     },
     "output_type": "display_data"
    }
   ],
   "source": [
    "for _v in v:\n",
    "  plt.imshow(_v)\n",
    "  plt.show()"
   ],
   "metadata": {
    "collapsed": false,
    "pycharm": {
     "name": "#%%\n"
    }
   }
  }
 ],
 "metadata": {
  "kernelspec": {
   "display_name": "Python 3",
   "language": "python",
   "name": "python3"
  },
  "language_info": {
   "codemirror_mode": {
    "name": "ipython",
    "version": 2
   },
   "file_extension": ".py",
   "mimetype": "text/x-python",
   "name": "python",
   "nbconvert_exporter": "python",
   "pygments_lexer": "ipython2",
   "version": "2.7.6"
  }
 },
 "nbformat": 4,
 "nbformat_minor": 0
}